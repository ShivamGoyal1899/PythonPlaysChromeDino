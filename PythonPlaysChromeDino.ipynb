{
 "cells": [
  {
   "cell_type": "code",
   "execution_count": 3,
   "metadata": {},
   "outputs": [],
   "source": [
    "from numpy import *\n",
    "from PIL import ImageGrab, ImageOps\n",
    "import pyautogui as py\n",
    "\n",
    "def pressSpace():\n",
    "    py.keyDown('space')\n",
    "    py.keyUp('space')\n",
    "\n",
    "def IMG():\n",
    "    Box = (160, 470, 450, 506)\n",
    "    image = ImageGrab.grab(Box)\n",
    "    image = ImageOps.grayscale(image)\n",
    "    arr = array(image.getcolors())\n",
    "    return (arr.sum())\n",
    "\n",
    "def main():\n",
    "    print(\"Starting Game.....\")\n",
    "    x = 0\n",
    "    while(1):\n",
    "        if(IMG() != 17079):\n",
    "            pressSpace()\n",
    "            x = x + 1\n",
    "            print(\"     Jumping \" + str(x) + \" times\")\n",
    "\n"
   ]
  },
  {
   "cell_type": "code",
   "execution_count": 4,
   "metadata": {},
   "outputs": [
    {
     "data": {
      "text/plain": [
       "17079"
      ]
     },
     "execution_count": 4,
     "metadata": {},
     "output_type": "execute_result"
    },
    {
     "data": {
      "text/plain": [
       "17079"
      ]
     },
     "execution_count": 4,
     "metadata": {},
     "output_type": "execute_result"
    }
   ],
   "source": [
    "IMG()"
   ]
  },
  {
   "cell_type": "code",
   "execution_count": null,
   "metadata": {},
   "outputs": [
    {
     "name": "stdout",
     "output_type": "stream",
     "text": [
      "Starting Game.....\n",
      "Starting Game.....\n",
      "     Jumping 1 times\n",
      "     Jumping 1 times\n",
      "     Jumping 2 times\n",
      "     Jumping 2 times\n",
      "     Jumping 3 times\n",
      "     Jumping 3 times\n",
      "     Jumping 4 times\n",
      "     Jumping 4 times\n",
      "     Jumping 5 times\n",
      "     Jumping 5 times\n",
      "     Jumping 6 times\n",
      "     Jumping 6 times\n",
      "     Jumping 7 times\n",
      "     Jumping 7 times\n",
      "     Jumping 8 times\n",
      "     Jumping 8 times\n",
      "     Jumping 9 times\n",
      "     Jumping 9 times\n",
      "     Jumping 10 times\n",
      "     Jumping 10 times\n",
      "     Jumping 11 times\n",
      "     Jumping 11 times\n",
      "     Jumping 12 times\n",
      "     Jumping 12 times\n",
      "     Jumping 13 times\n",
      "     Jumping 13 times\n",
      "     Jumping 14 times\n",
      "     Jumping 14 times\n",
      "     Jumping 15 times\n",
      "     Jumping 15 times\n",
      "     Jumping 16 times\n",
      "     Jumping 16 times\n",
      "     Jumping 17 times\n",
      "     Jumping 17 times\n",
      "     Jumping 18 times\n",
      "     Jumping 18 times\n",
      "     Jumping 19 times\n",
      "     Jumping 19 times\n"
     ]
    }
   ],
   "source": [
    "pressSpace()\n",
    "\n",
    "main()"
   ]
  },
  {
   "cell_type": "code",
   "execution_count": null,
   "metadata": {},
   "outputs": [],
   "source": [
    " "
   ]
  }
 ],
 "metadata": {
  "kernelspec": {
   "display_name": "Python 3",
   "language": "python",
   "name": "python3"
  },
  "language_info": {
   "codemirror_mode": {
    "name": "ipython",
    "version": 3
   },
   "file_extension": ".py",
   "mimetype": "text/x-python",
   "name": "python",
   "nbconvert_exporter": "python",
   "pygments_lexer": "ipython3",
   "version": "3.7.3"
  }
 },
 "nbformat": 4,
 "nbformat_minor": 2
}
