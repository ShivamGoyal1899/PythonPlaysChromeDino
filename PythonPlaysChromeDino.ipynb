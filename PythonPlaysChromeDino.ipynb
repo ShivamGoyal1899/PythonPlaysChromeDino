{
 "cells": [
  {
   "cell_type": "code",
   "execution_count": null,
   "metadata": {},
   "outputs": [],
   "source": [
    "from numpy import *\n",
    "from PIL import ImageGrab, ImageOps\n",
    "import pyautogui as py\n",
    "import sys\n",
    "\n",
    "def pressSpace():\n",
    "    py.keyDown('space')\n",
    "    py.keyUp('space')\n",
    "\n",
    "def IMG():\n",
    "    Box = (165, 460, 275, 490)\n",
    "    image = ImageGrab.grab(Box)\n",
    "    image = ImageOps.grayscale(image)\n",
    "    arr = array(image.getcolors())\n",
    "    return (arr.sum())\n",
    "        \n",
    "def main():\n",
    "    print(\"Starting Game.....\")\n",
    "    x = 0\n",
    "    while(1):\n",
    "        if(IMG() != 3547):\n",
    "            pressSpace()\n",
    "            x = x + 1\n",
    "            print(\"     Jumping \" + str(x) + \" times\")"
   ]
  },
  {
   "cell_type": "code",
   "execution_count": null,
   "metadata": {},
   "outputs": [],
   "source": [
    "IMG()"
   ]
  },
  {
   "cell_type": "code",
   "execution_count": null,
   "metadata": {},
   "outputs": [],
   "source": [
    "main()"
   ]
  },
  {
   "cell_type": "code",
   "execution_count": null,
   "metadata": {},
   "outputs": [],
   "source": []
  }
 ],
 "metadata": {
  "kernelspec": {
   "display_name": "Python 3",
   "language": "python",
   "name": "python3"
  },
  "language_info": {
   "codemirror_mode": {
    "name": "ipython",
    "version": 3
   },
   "file_extension": ".py",
   "mimetype": "text/x-python",
   "name": "python",
   "nbconvert_exporter": "python",
   "pygments_lexer": "ipython3",
   "version": "3.7.3"
  }
 },
 "nbformat": 4,
 "nbformat_minor": 2
}
